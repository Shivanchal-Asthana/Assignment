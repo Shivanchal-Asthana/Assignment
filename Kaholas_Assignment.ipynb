{
  "nbformat": 4,
  "nbformat_minor": 0,
  "metadata": {
    "colab": {
      "name": "Kaholas_Assignment.ipynb",
      "provenance": [],
      "collapsed_sections": []
    },
    "kernelspec": {
      "name": "python3",
      "display_name": "Python 3"
    },
    "language_info": {
      "name": "python"
    }
  },
  "cells": [
    {
      "cell_type": "markdown",
      "source": [
        "**In this Assignment, We need to create a colab notebook which gives me monthly wise top performing and top non performing stocks.**"
      ],
      "metadata": {
        "id": "gWKPgkCx35ot"
      }
    },
    {
      "cell_type": "code",
      "execution_count": 20,
      "metadata": {
        "id": "nwAJk3orT4eD"
      },
      "outputs": [],
      "source": [
        "#import necessary libraries\n",
        "import pandas as pd\n",
        "import io\n",
        "import time\n",
        "\n",
        "#import plotty\n",
        "import warnings\n",
        "warnings.filterwarnings('ignore')"
      ]
    },
    {
      "cell_type": "code",
      "source": [
        "#uploading csv file\n",
        "from google.colab import files\n",
        " \n",
        " \n",
        "uploaded = files.upload()"
      ],
      "metadata": {
        "colab": {
          "resources": {
            "http://localhost:8080/nbextensions/google.colab/files.js": {
              "data": "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",
              "ok": true,
              "headers": [
                [
                  "content-type",
                  "application/javascript"
                ]
              ],
              "status": 200,
              "status_text": ""
            }
          },
          "base_uri": "https://localhost:8080/",
          "height": 74
        },
        "id": "FrGaY4vgWGCx",
        "outputId": "93943296-1bdf-482c-c1b9-58937951933d"
      },
      "execution_count": 5,
      "outputs": [
        {
          "output_type": "display_data",
          "data": {
            "text/plain": [
              "<IPython.core.display.HTML object>"
            ],
            "text/html": [
              "\n",
              "     <input type=\"file\" id=\"files-693446ae-cccb-4259-b3d1-cd79c1ff3bac\" name=\"files[]\" multiple disabled\n",
              "        style=\"border:none\" />\n",
              "     <output id=\"result-693446ae-cccb-4259-b3d1-cd79c1ff3bac\">\n",
              "      Upload widget is only available when the cell has been executed in the\n",
              "      current browser session. Please rerun this cell to enable.\n",
              "      </output>\n",
              "      <script src=\"/nbextensions/google.colab/files.js\"></script> "
            ]
          },
          "metadata": {}
        },
        {
          "output_type": "stream",
          "name": "stdout",
          "text": [
            "Saving Equity Data (1 Jan 2020).csv to Equity Data (1 Jan 2020).csv\n"
          ]
        }
      ]
    },
    {
      "cell_type": "code",
      "source": [
        "#read the csv file\n",
        "df = pd.read_csv(io.BytesIO(uploaded['Equity Data (1 Jan 2020).csv']))\n",
        "print(df)"
      ],
      "metadata": {
        "colab": {
          "base_uri": "https://localhost:8080/"
        },
        "id": "e08OgcE7WGK_",
        "outputId": "9a3b9091-6967-49b1-c622-9f8a61ed488a"
      },
      "execution_count": 6,
      "outputs": [
        {
          "output_type": "stream",
          "name": "stdout",
          "text": [
            "             DATE1      SYMBOL   PREV_CLOSE   OPEN_PRICE   HIGH_PRICE  \\\n",
            "0       11-02-2022  NETFLTGILT        22.40        22.02        22.48   \n",
            "1       11-02-2022  NETFMID150       116.02       119.50       119.50   \n",
            "2       11-02-2022  NETFNIF100       183.49       178.50       184.98   \n",
            "3       11-02-2022  NETFDIVOPP        45.63        46.25        46.25   \n",
            "4       11-02-2022  NETFGILT5Y        49.66        49.66        49.82   \n",
            "...            ...         ...          ...          ...          ...   \n",
            "809334  01-01-2020  ORTINLABSS         9.90        10.15        10.15   \n",
            "809335  01-01-2020  ORISSAMINE      1281.50      1270.00      1288.00   \n",
            "809336  01-01-2020   OSWALAGRO         4.95         5.15         5.40   \n",
            "809337  01-01-2020     PAISALO       433.00       429.95       438.00   \n",
            "809338  01-01-2020     PAGEIND     23393.10     23350.00     23799.00   \n",
            "\n",
            "         LOW_PRICE   LAST_PRICE   CLOSE_PRICE   AVG_PRICE   TTL_TRD_QNTY  \\\n",
            "0            22.02        22.25         22.27       22.25          16697   \n",
            "1           113.61       114.10        113.95      114.68         224822   \n",
            "2           178.50       182.05        182.22      182.07           2354   \n",
            "3            45.07        45.33         45.09       45.40           1239   \n",
            "4            49.47        49.82         49.79       49.72          82821   \n",
            "...            ...          ...           ...         ...            ...   \n",
            "809334        9.80         9.85          9.80        9.84           5041   \n",
            "809335     1259.35      1264.00       1265.60     1268.53           8230   \n",
            "809336        5.00         5.20          5.30        5.18          27820   \n",
            "809337      427.45       429.95        428.85      432.68          37838   \n",
            "809338    23241.10     23600.00      23602.15    23601.26          16716   \n",
            "\n",
            "         TURNOVER_LACS   NO_OF_TRADES   DELIV_QTY   DELIV_PER  \n",
            "0                 3.72             83     12968.0       77.67  \n",
            "1               257.82           1780    200777.0       89.30  \n",
            "2                 4.29            135      2140.0       90.91  \n",
            "3                 0.56             86      1122.0       90.56  \n",
            "4                41.18            322     74512.0       89.97  \n",
            "...                ...            ...         ...         ...  \n",
            "809334            0.50             26      4283.0       84.96  \n",
            "809335          104.40            626      4091.0       49.71  \n",
            "809336            1.44            143     17849.0       64.16  \n",
            "809337          163.72            505      8873.0       23.45  \n",
            "809338         3945.19           6464      2964.0       17.73  \n",
            "\n",
            "[809339 rows x 14 columns]\n"
          ]
        }
      ]
    },
    {
      "cell_type": "code",
      "source": [
        "#check the shape of the dataset\n",
        "df.shape"
      ],
      "metadata": {
        "colab": {
          "base_uri": "https://localhost:8080/"
        },
        "id": "rNo5UfULWm6m",
        "outputId": "327c00d6-e5b1-4509-cc2e-23160d04eda8"
      },
      "execution_count": 7,
      "outputs": [
        {
          "output_type": "execute_result",
          "data": {
            "text/plain": [
              "(809339, 14)"
            ]
          },
          "metadata": {},
          "execution_count": 7
        }
      ]
    },
    {
      "cell_type": "code",
      "source": [
        "#check the columns of the dataset\n",
        "df.columns"
      ],
      "metadata": {
        "colab": {
          "base_uri": "https://localhost:8080/"
        },
        "id": "bwvKG9-Mbq8t",
        "outputId": "81727e98-a2c6-4e59-8441-34c4e4eee991"
      },
      "execution_count": 8,
      "outputs": [
        {
          "output_type": "execute_result",
          "data": {
            "text/plain": [
              "Index([' DATE1', 'SYMBOL', ' PREV_CLOSE', ' OPEN_PRICE', ' HIGH_PRICE',\n",
              "       ' LOW_PRICE', ' LAST_PRICE', ' CLOSE_PRICE', ' AVG_PRICE',\n",
              "       ' TTL_TRD_QNTY', ' TURNOVER_LACS', ' NO_OF_TRADES', ' DELIV_QTY',\n",
              "       ' DELIV_PER'],\n",
              "      dtype='object')"
            ]
          },
          "metadata": {},
          "execution_count": 8
        }
      ]
    },
    {
      "cell_type": "code",
      "source": [
        "#split the date column into three parts day, month and year\n",
        "df[' DATE1']=pd.to_datetime(df[' DATE1'])\n",
        "df['Month']=df[' DATE1'].apply(lambda x:x.month)\n",
        "df['Day']=df[' DATE1'].apply(lambda x:x.day)\n",
        "df['Years']=df[' DATE1'].apply(lambda x:x.year)"
      ],
      "metadata": {
        "id": "yBDR-PnSb0TS"
      },
      "execution_count": 9,
      "outputs": []
    },
    {
      "cell_type": "code",
      "source": [
        "#drop the uncessary column\n",
        "df.drop(columns=\" DATE1\", inplace = True)"
      ],
      "metadata": {
        "id": "GRUtKbUacR6N"
      },
      "execution_count": 10,
      "outputs": []
    },
    {
      "cell_type": "code",
      "source": [
        "#calculate the percentage change of close price and prev_price \n",
        "df[\"change\"]=(((df[\" CLOSE_PRICE\"]-df[\" PREV_CLOSE\"])/df[\" PREV_CLOSE\"])*100)"
      ],
      "metadata": {
        "id": "GsZGdTh1cuhj"
      },
      "execution_count": 11,
      "outputs": []
    },
    {
      "cell_type": "code",
      "source": [
        "# Transfer some columns into new dataframe df2\n",
        "df2 = df[['SYMBOL','change','Month','Years']]"
      ],
      "metadata": {
        "id": "7bDU1koKyob1"
      },
      "execution_count": 13,
      "outputs": []
    },
    {
      "cell_type": "code",
      "source": [
        "#New dataframe\n",
        "df2"
      ],
      "metadata": {
        "colab": {
          "base_uri": "https://localhost:8080/",
          "height": 423
        },
        "id": "KJX6dF5l3oBd",
        "outputId": "3bbab7d9-2962-4341-e2d9-2ede03ca00f5"
      },
      "execution_count": 14,
      "outputs": [
        {
          "output_type": "execute_result",
          "data": {
            "text/plain": [
              "            SYMBOL    change  Month  Years\n",
              "0       NETFLTGILT -0.580357     11   2022\n",
              "1       NETFMID150 -1.784175     11   2022\n",
              "2       NETFNIF100 -0.692136     11   2022\n",
              "3       NETFDIVOPP -1.183432     11   2022\n",
              "4       NETFGILT5Y  0.261780     11   2022\n",
              "...            ...       ...    ...    ...\n",
              "809334  ORTINLABSS -1.010101      1   2020\n",
              "809335  ORISSAMINE -1.240734      1   2020\n",
              "809336   OSWALAGRO  7.070707      1   2020\n",
              "809337     PAISALO -0.958430      1   2020\n",
              "809338     PAGEIND  0.893640      1   2020\n",
              "\n",
              "[809339 rows x 4 columns]"
            ],
            "text/html": [
              "\n",
              "  <div id=\"df-7be90b66-ef94-4048-8db5-eedc77286e9c\">\n",
              "    <div class=\"colab-df-container\">\n",
              "      <div>\n",
              "<style scoped>\n",
              "    .dataframe tbody tr th:only-of-type {\n",
              "        vertical-align: middle;\n",
              "    }\n",
              "\n",
              "    .dataframe tbody tr th {\n",
              "        vertical-align: top;\n",
              "    }\n",
              "\n",
              "    .dataframe thead th {\n",
              "        text-align: right;\n",
              "    }\n",
              "</style>\n",
              "<table border=\"1\" class=\"dataframe\">\n",
              "  <thead>\n",
              "    <tr style=\"text-align: right;\">\n",
              "      <th></th>\n",
              "      <th>SYMBOL</th>\n",
              "      <th>change</th>\n",
              "      <th>Month</th>\n",
              "      <th>Years</th>\n",
              "    </tr>\n",
              "  </thead>\n",
              "  <tbody>\n",
              "    <tr>\n",
              "      <th>0</th>\n",
              "      <td>NETFLTGILT</td>\n",
              "      <td>-0.580357</td>\n",
              "      <td>11</td>\n",
              "      <td>2022</td>\n",
              "    </tr>\n",
              "    <tr>\n",
              "      <th>1</th>\n",
              "      <td>NETFMID150</td>\n",
              "      <td>-1.784175</td>\n",
              "      <td>11</td>\n",
              "      <td>2022</td>\n",
              "    </tr>\n",
              "    <tr>\n",
              "      <th>2</th>\n",
              "      <td>NETFNIF100</td>\n",
              "      <td>-0.692136</td>\n",
              "      <td>11</td>\n",
              "      <td>2022</td>\n",
              "    </tr>\n",
              "    <tr>\n",
              "      <th>3</th>\n",
              "      <td>NETFDIVOPP</td>\n",
              "      <td>-1.183432</td>\n",
              "      <td>11</td>\n",
              "      <td>2022</td>\n",
              "    </tr>\n",
              "    <tr>\n",
              "      <th>4</th>\n",
              "      <td>NETFGILT5Y</td>\n",
              "      <td>0.261780</td>\n",
              "      <td>11</td>\n",
              "      <td>2022</td>\n",
              "    </tr>\n",
              "    <tr>\n",
              "      <th>...</th>\n",
              "      <td>...</td>\n",
              "      <td>...</td>\n",
              "      <td>...</td>\n",
              "      <td>...</td>\n",
              "    </tr>\n",
              "    <tr>\n",
              "      <th>809334</th>\n",
              "      <td>ORTINLABSS</td>\n",
              "      <td>-1.010101</td>\n",
              "      <td>1</td>\n",
              "      <td>2020</td>\n",
              "    </tr>\n",
              "    <tr>\n",
              "      <th>809335</th>\n",
              "      <td>ORISSAMINE</td>\n",
              "      <td>-1.240734</td>\n",
              "      <td>1</td>\n",
              "      <td>2020</td>\n",
              "    </tr>\n",
              "    <tr>\n",
              "      <th>809336</th>\n",
              "      <td>OSWALAGRO</td>\n",
              "      <td>7.070707</td>\n",
              "      <td>1</td>\n",
              "      <td>2020</td>\n",
              "    </tr>\n",
              "    <tr>\n",
              "      <th>809337</th>\n",
              "      <td>PAISALO</td>\n",
              "      <td>-0.958430</td>\n",
              "      <td>1</td>\n",
              "      <td>2020</td>\n",
              "    </tr>\n",
              "    <tr>\n",
              "      <th>809338</th>\n",
              "      <td>PAGEIND</td>\n",
              "      <td>0.893640</td>\n",
              "      <td>1</td>\n",
              "      <td>2020</td>\n",
              "    </tr>\n",
              "  </tbody>\n",
              "</table>\n",
              "<p>809339 rows × 4 columns</p>\n",
              "</div>\n",
              "      <button class=\"colab-df-convert\" onclick=\"convertToInteractive('df-7be90b66-ef94-4048-8db5-eedc77286e9c')\"\n",
              "              title=\"Convert this dataframe to an interactive table.\"\n",
              "              style=\"display:none;\">\n",
              "        \n",
              "  <svg xmlns=\"http://www.w3.org/2000/svg\" height=\"24px\"viewBox=\"0 0 24 24\"\n",
              "       width=\"24px\">\n",
              "    <path d=\"M0 0h24v24H0V0z\" fill=\"none\"/>\n",
              "    <path d=\"M18.56 5.44l.94 2.06.94-2.06 2.06-.94-2.06-.94-.94-2.06-.94 2.06-2.06.94zm-11 1L8.5 8.5l.94-2.06 2.06-.94-2.06-.94L8.5 2.5l-.94 2.06-2.06.94zm10 10l.94 2.06.94-2.06 2.06-.94-2.06-.94-.94-2.06-.94 2.06-2.06.94z\"/><path d=\"M17.41 7.96l-1.37-1.37c-.4-.4-.92-.59-1.43-.59-.52 0-1.04.2-1.43.59L10.3 9.45l-7.72 7.72c-.78.78-.78 2.05 0 2.83L4 21.41c.39.39.9.59 1.41.59.51 0 1.02-.2 1.41-.59l7.78-7.78 2.81-2.81c.8-.78.8-2.07 0-2.86zM5.41 20L4 18.59l7.72-7.72 1.47 1.35L5.41 20z\"/>\n",
              "  </svg>\n",
              "      </button>\n",
              "      \n",
              "  <style>\n",
              "    .colab-df-container {\n",
              "      display:flex;\n",
              "      flex-wrap:wrap;\n",
              "      gap: 12px;\n",
              "    }\n",
              "\n",
              "    .colab-df-convert {\n",
              "      background-color: #E8F0FE;\n",
              "      border: none;\n",
              "      border-radius: 50%;\n",
              "      cursor: pointer;\n",
              "      display: none;\n",
              "      fill: #1967D2;\n",
              "      height: 32px;\n",
              "      padding: 0 0 0 0;\n",
              "      width: 32px;\n",
              "    }\n",
              "\n",
              "    .colab-df-convert:hover {\n",
              "      background-color: #E2EBFA;\n",
              "      box-shadow: 0px 1px 2px rgba(60, 64, 67, 0.3), 0px 1px 3px 1px rgba(60, 64, 67, 0.15);\n",
              "      fill: #174EA6;\n",
              "    }\n",
              "\n",
              "    [theme=dark] .colab-df-convert {\n",
              "      background-color: #3B4455;\n",
              "      fill: #D2E3FC;\n",
              "    }\n",
              "\n",
              "    [theme=dark] .colab-df-convert:hover {\n",
              "      background-color: #434B5C;\n",
              "      box-shadow: 0px 1px 3px 1px rgba(0, 0, 0, 0.15);\n",
              "      filter: drop-shadow(0px 1px 2px rgba(0, 0, 0, 0.3));\n",
              "      fill: #FFFFFF;\n",
              "    }\n",
              "  </style>\n",
              "\n",
              "      <script>\n",
              "        const buttonEl =\n",
              "          document.querySelector('#df-7be90b66-ef94-4048-8db5-eedc77286e9c button.colab-df-convert');\n",
              "        buttonEl.style.display =\n",
              "          google.colab.kernel.accessAllowed ? 'block' : 'none';\n",
              "\n",
              "        async function convertToInteractive(key) {\n",
              "          const element = document.querySelector('#df-7be90b66-ef94-4048-8db5-eedc77286e9c');\n",
              "          const dataTable =\n",
              "            await google.colab.kernel.invokeFunction('convertToInteractive',\n",
              "                                                     [key], {});\n",
              "          if (!dataTable) return;\n",
              "\n",
              "          const docLinkHtml = 'Like what you see? Visit the ' +\n",
              "            '<a target=\"_blank\" href=https://colab.research.google.com/notebooks/data_table.ipynb>data table notebook</a>'\n",
              "            + ' to learn more about interactive tables.';\n",
              "          element.innerHTML = '';\n",
              "          dataTable['output_type'] = 'display_data';\n",
              "          await google.colab.output.renderOutput(dataTable, element);\n",
              "          const docLink = document.createElement('div');\n",
              "          docLink.innerHTML = docLinkHtml;\n",
              "          element.appendChild(docLink);\n",
              "        }\n",
              "      </script>\n",
              "    </div>\n",
              "  </div>\n",
              "  "
            ]
          },
          "metadata": {},
          "execution_count": 14
        }
      ]
    },
    {
      "cell_type": "code",
      "source": [
        "#We create one empty list and fetching the good performance of stock on per month basis\n",
        "list_max=[]\n",
        "for i in range(1,13):\n",
        "    a = df2[['change','SYMBOL']][ df2['Month'] == i ].max()\n",
        "    list_max.append(str(a).split()) "
      ],
      "metadata": {
        "id": "tpqGL2WS4m5L"
      },
      "execution_count": 16,
      "outputs": []
    },
    {
      "cell_type": "code",
      "source": [
        "#We create one empty list and fetching the bad performance of stock on per month basis\n",
        "list_min=[]\n",
        "for i in range(1,13):\n",
        "    a = df2[['change','SYMBOL']][ df2['Month'] == i ].min()\n",
        "    list_min.append(str(a).split())"
      ],
      "metadata": {
        "id": "fRwJTwgY4nEZ"
      },
      "execution_count": 17,
      "outputs": []
    },
    {
      "cell_type": "code",
      "source": [
        "# Creating Dataframe\n",
        "df_main = pd.DataFrame({'Good_performance': list_max, 'Bad_performance': list_min})\n",
        "df_main"
      ],
      "metadata": {
        "colab": {
          "base_uri": "https://localhost:8080/",
          "height": 426
        },
        "id": "6mZ81jkc4nJ5",
        "outputId": "b614d6c6-78af-4423-dc6e-4db5810e44a6"
      },
      "execution_count": 18,
      "outputs": [
        {
          "output_type": "execute_result",
          "data": {
            "text/plain": [
              "                                     Good_performance  \\\n",
              "0   [change, 72.0, SYMBOL, ZYDUSWELL, dtype:, object]   \n",
              "1   [change, 109.204698, SYMBOL, ZYDUSWELL, dtype:...   \n",
              "2   [change, 100.0, SYMBOL, ZYDUSWELL, dtype:, obj...   \n",
              "3   [change, 100.0, SYMBOL, ZYDUSWELL, dtype:, obj...   \n",
              "4   [change, 29.601276, SYMBOL, ZYDUSWELL, dtype:,...   \n",
              "5   [change, 50.0, SYMBOL, ZYDUSWELL, dtype:, object]   \n",
              "6   [change, 113.499538, SYMBOL, ZYDUSWELL, dtype:...   \n",
              "7   [change, 37.222222, SYMBOL, ZYDUSWELL, dtype:,...   \n",
              "8   [change, 123.463855, SYMBOL, ZYDUSWELL, dtype:...   \n",
              "9   [change, 96.071111, SYMBOL, ZYDUSWELL, dtype:,...   \n",
              "10  [change, 148.096447, SYMBOL, ZYDUSWELL, dtype:...   \n",
              "11  [change, 125.0, SYMBOL, ZYDUSWELL, dtype:, obj...   \n",
              "\n",
              "                                      Bad_performance  \n",
              "0   [change, -86.041667, SYMBOL, 20MICRONS, dtype:...  \n",
              "1   [change, -99.014616, SYMBOL, 20MICRONS, dtype:...  \n",
              "2   [change, -98.999208, SYMBOL, 20MICRONS, dtype:...  \n",
              "3   [change, -79.844961, SYMBOL, 20MICRONS, dtype:...  \n",
              "4   [change, -47.93817, SYMBOL, 20MICRONS, dtype:,...  \n",
              "5   [change, -90.068136, SYMBOL, 20MICRONS, dtype:...  \n",
              "6   [change, -98.801264, SYMBOL, 20MICRONS, dtype:...  \n",
              "7   [change, -89.971386, SYMBOL, 20MICRONS, dtype:...  \n",
              "8   [change, -90.491764, SYMBOL, 20MICRONS, dtype:...  \n",
              "9   [change, -90.050432, SYMBOL, 20MICRONS, dtype:...  \n",
              "10  [change, -98.99624, SYMBOL, 20MICRONS, dtype:,...  \n",
              "11  [change, -98.762238, SYMBOL, 20MICRONS, dtype:...  "
            ],
            "text/html": [
              "\n",
              "  <div id=\"df-e4a3a20a-d07f-41f3-8453-71e606cdbfaa\">\n",
              "    <div class=\"colab-df-container\">\n",
              "      <div>\n",
              "<style scoped>\n",
              "    .dataframe tbody tr th:only-of-type {\n",
              "        vertical-align: middle;\n",
              "    }\n",
              "\n",
              "    .dataframe tbody tr th {\n",
              "        vertical-align: top;\n",
              "    }\n",
              "\n",
              "    .dataframe thead th {\n",
              "        text-align: right;\n",
              "    }\n",
              "</style>\n",
              "<table border=\"1\" class=\"dataframe\">\n",
              "  <thead>\n",
              "    <tr style=\"text-align: right;\">\n",
              "      <th></th>\n",
              "      <th>Good_performance</th>\n",
              "      <th>Bad_performance</th>\n",
              "    </tr>\n",
              "  </thead>\n",
              "  <tbody>\n",
              "    <tr>\n",
              "      <th>0</th>\n",
              "      <td>[change, 72.0, SYMBOL, ZYDUSWELL, dtype:, object]</td>\n",
              "      <td>[change, -86.041667, SYMBOL, 20MICRONS, dtype:...</td>\n",
              "    </tr>\n",
              "    <tr>\n",
              "      <th>1</th>\n",
              "      <td>[change, 109.204698, SYMBOL, ZYDUSWELL, dtype:...</td>\n",
              "      <td>[change, -99.014616, SYMBOL, 20MICRONS, dtype:...</td>\n",
              "    </tr>\n",
              "    <tr>\n",
              "      <th>2</th>\n",
              "      <td>[change, 100.0, SYMBOL, ZYDUSWELL, dtype:, obj...</td>\n",
              "      <td>[change, -98.999208, SYMBOL, 20MICRONS, dtype:...</td>\n",
              "    </tr>\n",
              "    <tr>\n",
              "      <th>3</th>\n",
              "      <td>[change, 100.0, SYMBOL, ZYDUSWELL, dtype:, obj...</td>\n",
              "      <td>[change, -79.844961, SYMBOL, 20MICRONS, dtype:...</td>\n",
              "    </tr>\n",
              "    <tr>\n",
              "      <th>4</th>\n",
              "      <td>[change, 29.601276, SYMBOL, ZYDUSWELL, dtype:,...</td>\n",
              "      <td>[change, -47.93817, SYMBOL, 20MICRONS, dtype:,...</td>\n",
              "    </tr>\n",
              "    <tr>\n",
              "      <th>5</th>\n",
              "      <td>[change, 50.0, SYMBOL, ZYDUSWELL, dtype:, object]</td>\n",
              "      <td>[change, -90.068136, SYMBOL, 20MICRONS, dtype:...</td>\n",
              "    </tr>\n",
              "    <tr>\n",
              "      <th>6</th>\n",
              "      <td>[change, 113.499538, SYMBOL, ZYDUSWELL, dtype:...</td>\n",
              "      <td>[change, -98.801264, SYMBOL, 20MICRONS, dtype:...</td>\n",
              "    </tr>\n",
              "    <tr>\n",
              "      <th>7</th>\n",
              "      <td>[change, 37.222222, SYMBOL, ZYDUSWELL, dtype:,...</td>\n",
              "      <td>[change, -89.971386, SYMBOL, 20MICRONS, dtype:...</td>\n",
              "    </tr>\n",
              "    <tr>\n",
              "      <th>8</th>\n",
              "      <td>[change, 123.463855, SYMBOL, ZYDUSWELL, dtype:...</td>\n",
              "      <td>[change, -90.491764, SYMBOL, 20MICRONS, dtype:...</td>\n",
              "    </tr>\n",
              "    <tr>\n",
              "      <th>9</th>\n",
              "      <td>[change, 96.071111, SYMBOL, ZYDUSWELL, dtype:,...</td>\n",
              "      <td>[change, -90.050432, SYMBOL, 20MICRONS, dtype:...</td>\n",
              "    </tr>\n",
              "    <tr>\n",
              "      <th>10</th>\n",
              "      <td>[change, 148.096447, SYMBOL, ZYDUSWELL, dtype:...</td>\n",
              "      <td>[change, -98.99624, SYMBOL, 20MICRONS, dtype:,...</td>\n",
              "    </tr>\n",
              "    <tr>\n",
              "      <th>11</th>\n",
              "      <td>[change, 125.0, SYMBOL, ZYDUSWELL, dtype:, obj...</td>\n",
              "      <td>[change, -98.762238, SYMBOL, 20MICRONS, dtype:...</td>\n",
              "    </tr>\n",
              "  </tbody>\n",
              "</table>\n",
              "</div>\n",
              "      <button class=\"colab-df-convert\" onclick=\"convertToInteractive('df-e4a3a20a-d07f-41f3-8453-71e606cdbfaa')\"\n",
              "              title=\"Convert this dataframe to an interactive table.\"\n",
              "              style=\"display:none;\">\n",
              "        \n",
              "  <svg xmlns=\"http://www.w3.org/2000/svg\" height=\"24px\"viewBox=\"0 0 24 24\"\n",
              "       width=\"24px\">\n",
              "    <path d=\"M0 0h24v24H0V0z\" fill=\"none\"/>\n",
              "    <path d=\"M18.56 5.44l.94 2.06.94-2.06 2.06-.94-2.06-.94-.94-2.06-.94 2.06-2.06.94zm-11 1L8.5 8.5l.94-2.06 2.06-.94-2.06-.94L8.5 2.5l-.94 2.06-2.06.94zm10 10l.94 2.06.94-2.06 2.06-.94-2.06-.94-.94-2.06-.94 2.06-2.06.94z\"/><path d=\"M17.41 7.96l-1.37-1.37c-.4-.4-.92-.59-1.43-.59-.52 0-1.04.2-1.43.59L10.3 9.45l-7.72 7.72c-.78.78-.78 2.05 0 2.83L4 21.41c.39.39.9.59 1.41.59.51 0 1.02-.2 1.41-.59l7.78-7.78 2.81-2.81c.8-.78.8-2.07 0-2.86zM5.41 20L4 18.59l7.72-7.72 1.47 1.35L5.41 20z\"/>\n",
              "  </svg>\n",
              "      </button>\n",
              "      \n",
              "  <style>\n",
              "    .colab-df-container {\n",
              "      display:flex;\n",
              "      flex-wrap:wrap;\n",
              "      gap: 12px;\n",
              "    }\n",
              "\n",
              "    .colab-df-convert {\n",
              "      background-color: #E8F0FE;\n",
              "      border: none;\n",
              "      border-radius: 50%;\n",
              "      cursor: pointer;\n",
              "      display: none;\n",
              "      fill: #1967D2;\n",
              "      height: 32px;\n",
              "      padding: 0 0 0 0;\n",
              "      width: 32px;\n",
              "    }\n",
              "\n",
              "    .colab-df-convert:hover {\n",
              "      background-color: #E2EBFA;\n",
              "      box-shadow: 0px 1px 2px rgba(60, 64, 67, 0.3), 0px 1px 3px 1px rgba(60, 64, 67, 0.15);\n",
              "      fill: #174EA6;\n",
              "    }\n",
              "\n",
              "    [theme=dark] .colab-df-convert {\n",
              "      background-color: #3B4455;\n",
              "      fill: #D2E3FC;\n",
              "    }\n",
              "\n",
              "    [theme=dark] .colab-df-convert:hover {\n",
              "      background-color: #434B5C;\n",
              "      box-shadow: 0px 1px 3px 1px rgba(0, 0, 0, 0.15);\n",
              "      filter: drop-shadow(0px 1px 2px rgba(0, 0, 0, 0.3));\n",
              "      fill: #FFFFFF;\n",
              "    }\n",
              "  </style>\n",
              "\n",
              "      <script>\n",
              "        const buttonEl =\n",
              "          document.querySelector('#df-e4a3a20a-d07f-41f3-8453-71e606cdbfaa button.colab-df-convert');\n",
              "        buttonEl.style.display =\n",
              "          google.colab.kernel.accessAllowed ? 'block' : 'none';\n",
              "\n",
              "        async function convertToInteractive(key) {\n",
              "          const element = document.querySelector('#df-e4a3a20a-d07f-41f3-8453-71e606cdbfaa');\n",
              "          const dataTable =\n",
              "            await google.colab.kernel.invokeFunction('convertToInteractive',\n",
              "                                                     [key], {});\n",
              "          if (!dataTable) return;\n",
              "\n",
              "          const docLinkHtml = 'Like what you see? Visit the ' +\n",
              "            '<a target=\"_blank\" href=https://colab.research.google.com/notebooks/data_table.ipynb>data table notebook</a>'\n",
              "            + ' to learn more about interactive tables.';\n",
              "          element.innerHTML = '';\n",
              "          dataTable['output_type'] = 'display_data';\n",
              "          await google.colab.output.renderOutput(dataTable, element);\n",
              "          const docLink = document.createElement('div');\n",
              "          docLink.innerHTML = docLinkHtml;\n",
              "          element.appendChild(docLink);\n",
              "        }\n",
              "      </script>\n",
              "    </div>\n",
              "  </div>\n",
              "  "
            ]
          },
          "metadata": {},
          "execution_count": 18
        }
      ]
    },
    {
      "cell_type": "markdown",
      "source": [
        "**Data Cleaning**"
      ],
      "metadata": {
        "id": "wm39eNXT6Kwx"
      }
    },
    {
      "cell_type": "code",
      "source": [
        "#fetch the necessary data and store it in new column\n",
        "df_main['Max_value'] = df_main['Good_performance'].str.slice(1,2) \n",
        "time.sleep(2) #delay of 2 secs\n",
        "df_main['Good_performance_stock']= df_main['Good_performance'].str.slice(3,4)"
      ],
      "metadata": {
        "id": "Y7JIY79m5386"
      },
      "execution_count": 21,
      "outputs": []
    },
    {
      "cell_type": "code",
      "source": [
        "#fetch the necessary data and store it in new column\n",
        "df_main['Min_value'] = df_main['Bad_performance'].str.slice(1,2)\n",
        "time.sleep(2) #delay of 2 secs\n",
        "df_main['Bad_performance_stock']= df_main['Bad_performance'].str.slice(3,4)"
      ],
      "metadata": {
        "id": "QGxWrc7w6dvh"
      },
      "execution_count": 22,
      "outputs": []
    },
    {
      "cell_type": "code",
      "source": [
        "#Removing the unncessary sqaure brackets by using strip command\n",
        "for i in range(0, df_main.shape[0]):\n",
        "       df_main['Max_value'][i] = str(df_main['Max_value'][i]).strip('[]')\n",
        "\n",
        "time.sleep(2) #delay of 2 secs\n",
        "\n",
        "for i in range(0, df_main.shape[0]):\n",
        "       df_main['Good_performance_stock'][i] = str(df_main['Good_performance_stock'][i]).strip('[]')\n",
        "\n",
        "time.sleep(2) #delay of 2 secs\n",
        "\n",
        "for i in range(0, df_main.shape[0]):\n",
        "       df_main['Min_value'][i] = str(df_main['Min_value'][i]).strip('[]') \n",
        "\n",
        "time.sleep(2) #delay of 2 secs\n",
        "\n",
        "for i in range(0, df_main.shape[0]):\n",
        "       df_main['Bad_performance_stock'][i] = str(df_main['Bad_performance_stock'][i]).strip('[]') \n"
      ],
      "metadata": {
        "id": "RO3bY73g54D0"
      },
      "execution_count": 23,
      "outputs": []
    },
    {
      "cell_type": "code",
      "source": [
        "#drop the unncessary columns\n",
        "df_main.drop(columns='Good_performance',inplace = True)\n",
        "\n",
        "time.sleep(2) #delay of 2 secs\n",
        "\n",
        "df_main.drop(columns='Bad_performance',inplace = True)"
      ],
      "metadata": {
        "id": "uNJGV7zc9bj0"
      },
      "execution_count": 25,
      "outputs": []
    },
    {
      "cell_type": "markdown",
      "source": [
        "**Final Output**"
      ],
      "metadata": {
        "id": "PDb9mPxJ8XV6"
      }
    },
    {
      "cell_type": "code",
      "source": [
        "df_main #Final column"
      ],
      "metadata": {
        "colab": {
          "base_uri": "https://localhost:8080/",
          "height": 426
        },
        "id": "RAb377_18O2T",
        "outputId": "bfeb6eb0-999a-4a35-ef85-c7ac536b6e8c"
      },
      "execution_count": 26,
      "outputs": [
        {
          "output_type": "execute_result",
          "data": {
            "text/plain": [
              "       Max_value Good_performance_stock     Min_value Bad_performance_stock\n",
              "0         '72.0'            'ZYDUSWELL'  '-86.041667'           '20MICRONS'\n",
              "1   '109.204698'            'ZYDUSWELL'  '-99.014616'           '20MICRONS'\n",
              "2        '100.0'            'ZYDUSWELL'  '-98.999208'           '20MICRONS'\n",
              "3        '100.0'            'ZYDUSWELL'  '-79.844961'           '20MICRONS'\n",
              "4    '29.601276'            'ZYDUSWELL'   '-47.93817'           '20MICRONS'\n",
              "5         '50.0'            'ZYDUSWELL'  '-90.068136'           '20MICRONS'\n",
              "6   '113.499538'            'ZYDUSWELL'  '-98.801264'           '20MICRONS'\n",
              "7    '37.222222'            'ZYDUSWELL'  '-89.971386'           '20MICRONS'\n",
              "8   '123.463855'            'ZYDUSWELL'  '-90.491764'           '20MICRONS'\n",
              "9    '96.071111'            'ZYDUSWELL'  '-90.050432'           '20MICRONS'\n",
              "10  '148.096447'            'ZYDUSWELL'   '-98.99624'           '20MICRONS'\n",
              "11       '125.0'            'ZYDUSWELL'  '-98.762238'           '20MICRONS'"
            ],
            "text/html": [
              "\n",
              "  <div id=\"df-c15ff38b-0b6d-4cd3-852e-84ae366db458\">\n",
              "    <div class=\"colab-df-container\">\n",
              "      <div>\n",
              "<style scoped>\n",
              "    .dataframe tbody tr th:only-of-type {\n",
              "        vertical-align: middle;\n",
              "    }\n",
              "\n",
              "    .dataframe tbody tr th {\n",
              "        vertical-align: top;\n",
              "    }\n",
              "\n",
              "    .dataframe thead th {\n",
              "        text-align: right;\n",
              "    }\n",
              "</style>\n",
              "<table border=\"1\" class=\"dataframe\">\n",
              "  <thead>\n",
              "    <tr style=\"text-align: right;\">\n",
              "      <th></th>\n",
              "      <th>Max_value</th>\n",
              "      <th>Good_performance_stock</th>\n",
              "      <th>Min_value</th>\n",
              "      <th>Bad_performance_stock</th>\n",
              "    </tr>\n",
              "  </thead>\n",
              "  <tbody>\n",
              "    <tr>\n",
              "      <th>0</th>\n",
              "      <td>'72.0'</td>\n",
              "      <td>'ZYDUSWELL'</td>\n",
              "      <td>'-86.041667'</td>\n",
              "      <td>'20MICRONS'</td>\n",
              "    </tr>\n",
              "    <tr>\n",
              "      <th>1</th>\n",
              "      <td>'109.204698'</td>\n",
              "      <td>'ZYDUSWELL'</td>\n",
              "      <td>'-99.014616'</td>\n",
              "      <td>'20MICRONS'</td>\n",
              "    </tr>\n",
              "    <tr>\n",
              "      <th>2</th>\n",
              "      <td>'100.0'</td>\n",
              "      <td>'ZYDUSWELL'</td>\n",
              "      <td>'-98.999208'</td>\n",
              "      <td>'20MICRONS'</td>\n",
              "    </tr>\n",
              "    <tr>\n",
              "      <th>3</th>\n",
              "      <td>'100.0'</td>\n",
              "      <td>'ZYDUSWELL'</td>\n",
              "      <td>'-79.844961'</td>\n",
              "      <td>'20MICRONS'</td>\n",
              "    </tr>\n",
              "    <tr>\n",
              "      <th>4</th>\n",
              "      <td>'29.601276'</td>\n",
              "      <td>'ZYDUSWELL'</td>\n",
              "      <td>'-47.93817'</td>\n",
              "      <td>'20MICRONS'</td>\n",
              "    </tr>\n",
              "    <tr>\n",
              "      <th>5</th>\n",
              "      <td>'50.0'</td>\n",
              "      <td>'ZYDUSWELL'</td>\n",
              "      <td>'-90.068136'</td>\n",
              "      <td>'20MICRONS'</td>\n",
              "    </tr>\n",
              "    <tr>\n",
              "      <th>6</th>\n",
              "      <td>'113.499538'</td>\n",
              "      <td>'ZYDUSWELL'</td>\n",
              "      <td>'-98.801264'</td>\n",
              "      <td>'20MICRONS'</td>\n",
              "    </tr>\n",
              "    <tr>\n",
              "      <th>7</th>\n",
              "      <td>'37.222222'</td>\n",
              "      <td>'ZYDUSWELL'</td>\n",
              "      <td>'-89.971386'</td>\n",
              "      <td>'20MICRONS'</td>\n",
              "    </tr>\n",
              "    <tr>\n",
              "      <th>8</th>\n",
              "      <td>'123.463855'</td>\n",
              "      <td>'ZYDUSWELL'</td>\n",
              "      <td>'-90.491764'</td>\n",
              "      <td>'20MICRONS'</td>\n",
              "    </tr>\n",
              "    <tr>\n",
              "      <th>9</th>\n",
              "      <td>'96.071111'</td>\n",
              "      <td>'ZYDUSWELL'</td>\n",
              "      <td>'-90.050432'</td>\n",
              "      <td>'20MICRONS'</td>\n",
              "    </tr>\n",
              "    <tr>\n",
              "      <th>10</th>\n",
              "      <td>'148.096447'</td>\n",
              "      <td>'ZYDUSWELL'</td>\n",
              "      <td>'-98.99624'</td>\n",
              "      <td>'20MICRONS'</td>\n",
              "    </tr>\n",
              "    <tr>\n",
              "      <th>11</th>\n",
              "      <td>'125.0'</td>\n",
              "      <td>'ZYDUSWELL'</td>\n",
              "      <td>'-98.762238'</td>\n",
              "      <td>'20MICRONS'</td>\n",
              "    </tr>\n",
              "  </tbody>\n",
              "</table>\n",
              "</div>\n",
              "      <button class=\"colab-df-convert\" onclick=\"convertToInteractive('df-c15ff38b-0b6d-4cd3-852e-84ae366db458')\"\n",
              "              title=\"Convert this dataframe to an interactive table.\"\n",
              "              style=\"display:none;\">\n",
              "        \n",
              "  <svg xmlns=\"http://www.w3.org/2000/svg\" height=\"24px\"viewBox=\"0 0 24 24\"\n",
              "       width=\"24px\">\n",
              "    <path d=\"M0 0h24v24H0V0z\" fill=\"none\"/>\n",
              "    <path d=\"M18.56 5.44l.94 2.06.94-2.06 2.06-.94-2.06-.94-.94-2.06-.94 2.06-2.06.94zm-11 1L8.5 8.5l.94-2.06 2.06-.94-2.06-.94L8.5 2.5l-.94 2.06-2.06.94zm10 10l.94 2.06.94-2.06 2.06-.94-2.06-.94-.94-2.06-.94 2.06-2.06.94z\"/><path d=\"M17.41 7.96l-1.37-1.37c-.4-.4-.92-.59-1.43-.59-.52 0-1.04.2-1.43.59L10.3 9.45l-7.72 7.72c-.78.78-.78 2.05 0 2.83L4 21.41c.39.39.9.59 1.41.59.51 0 1.02-.2 1.41-.59l7.78-7.78 2.81-2.81c.8-.78.8-2.07 0-2.86zM5.41 20L4 18.59l7.72-7.72 1.47 1.35L5.41 20z\"/>\n",
              "  </svg>\n",
              "      </button>\n",
              "      \n",
              "  <style>\n",
              "    .colab-df-container {\n",
              "      display:flex;\n",
              "      flex-wrap:wrap;\n",
              "      gap: 12px;\n",
              "    }\n",
              "\n",
              "    .colab-df-convert {\n",
              "      background-color: #E8F0FE;\n",
              "      border: none;\n",
              "      border-radius: 50%;\n",
              "      cursor: pointer;\n",
              "      display: none;\n",
              "      fill: #1967D2;\n",
              "      height: 32px;\n",
              "      padding: 0 0 0 0;\n",
              "      width: 32px;\n",
              "    }\n",
              "\n",
              "    .colab-df-convert:hover {\n",
              "      background-color: #E2EBFA;\n",
              "      box-shadow: 0px 1px 2px rgba(60, 64, 67, 0.3), 0px 1px 3px 1px rgba(60, 64, 67, 0.15);\n",
              "      fill: #174EA6;\n",
              "    }\n",
              "\n",
              "    [theme=dark] .colab-df-convert {\n",
              "      background-color: #3B4455;\n",
              "      fill: #D2E3FC;\n",
              "    }\n",
              "\n",
              "    [theme=dark] .colab-df-convert:hover {\n",
              "      background-color: #434B5C;\n",
              "      box-shadow: 0px 1px 3px 1px rgba(0, 0, 0, 0.15);\n",
              "      filter: drop-shadow(0px 1px 2px rgba(0, 0, 0, 0.3));\n",
              "      fill: #FFFFFF;\n",
              "    }\n",
              "  </style>\n",
              "\n",
              "      <script>\n",
              "        const buttonEl =\n",
              "          document.querySelector('#df-c15ff38b-0b6d-4cd3-852e-84ae366db458 button.colab-df-convert');\n",
              "        buttonEl.style.display =\n",
              "          google.colab.kernel.accessAllowed ? 'block' : 'none';\n",
              "\n",
              "        async function convertToInteractive(key) {\n",
              "          const element = document.querySelector('#df-c15ff38b-0b6d-4cd3-852e-84ae366db458');\n",
              "          const dataTable =\n",
              "            await google.colab.kernel.invokeFunction('convertToInteractive',\n",
              "                                                     [key], {});\n",
              "          if (!dataTable) return;\n",
              "\n",
              "          const docLinkHtml = 'Like what you see? Visit the ' +\n",
              "            '<a target=\"_blank\" href=https://colab.research.google.com/notebooks/data_table.ipynb>data table notebook</a>'\n",
              "            + ' to learn more about interactive tables.';\n",
              "          element.innerHTML = '';\n",
              "          dataTable['output_type'] = 'display_data';\n",
              "          await google.colab.output.renderOutput(dataTable, element);\n",
              "          const docLink = document.createElement('div');\n",
              "          docLink.innerHTML = docLinkHtml;\n",
              "          element.appendChild(docLink);\n",
              "        }\n",
              "      </script>\n",
              "    </div>\n",
              "  </div>\n",
              "  "
            ]
          },
          "metadata": {},
          "execution_count": 26
        }
      ]
    },
    {
      "cell_type": "code",
      "source": [
        ""
      ],
      "metadata": {
        "id": "qYbY_28J913Y"
      },
      "execution_count": null,
      "outputs": []
    }
  ]
}